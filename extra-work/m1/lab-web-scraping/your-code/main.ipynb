{
 "cells": [
  {
   "cell_type": "markdown",
   "metadata": {},
   "source": [
    "# Web Scraping Lab\n",
    "\n",
    "You will find in this notebook some scrapy exercises to practise your scraping skills.\n",
    "\n",
    "**Tips:**\n",
    "\n",
    "- Check the response status code for each request to ensure you have obtained the intended content.\n",
    "- Print the response text in each request to understand the kind of info you are getting and its format.\n",
    "- Check for patterns in the response text to extract the data/info requested in each question.\n",
    "- Visit the urls below and take a look at their source code through Chrome DevTools. You'll need to identify the html tags, special class names, etc used in the html content you are expected to extract.\n",
    "\n",
    "**Resources**:\n",
    "- [Requests library](http://docs.python-requests.org/en/master/#the-user-guide)\n",
    "- [Beautiful Soup Doc](https://www.crummy.com/software/BeautifulSoup/bs4/doc/)\n",
    "- [Urllib](https://docs.python.org/3/library/urllib.html#module-urllib)\n",
    "- [re lib](https://docs.python.org/3/library/re.html)\n",
    "- [lxml lib](https://lxml.de/)\n",
    "- [Scrapy](https://scrapy.org/)\n",
    "- [List of HTTP status codes](https://en.wikipedia.org/wiki/List_of_HTTP_status_codes)\n",
    "- [HTML basics](http://www.simplehtmlguide.com/cheatsheet.php)\n",
    "- [CSS basics](https://www.cssbasics.com/#page_start)"
   ]
  },
  {
   "cell_type": "markdown",
   "metadata": {},
   "source": [
    "#### Below are the libraries and modules you may need. `requests`,  `BeautifulSoup` and `pandas` are already imported for you. If you prefer to use additional libraries feel free to do it."
   ]
  },
  {
   "cell_type": "code",
   "execution_count": 2,
   "metadata": {},
   "outputs": [],
   "source": [
    "import requests\n",
    "from bs4 import BeautifulSoup as bs\n",
    "import pandas as pd\n",
    "import re\n",
    "import lxml"
   ]
  },
  {
   "cell_type": "markdown",
   "metadata": {},
   "source": [
    "#### Download, parse (using BeautifulSoup), and print the content from the Trending Developers page from GitHub:"
   ]
  },
  {
   "cell_type": "code",
   "execution_count": 3,
   "metadata": {},
   "outputs": [],
   "source": [
    "# This is the url you will scrape in this exercise\n",
    "url = 'https://github.com/trending/developers'"
   ]
  },
  {
   "cell_type": "code",
   "execution_count": 4,
   "metadata": {
    "scrolled": true
   },
   "outputs": [],
   "source": [
    "response = requests.get(url)\n",
    "html = response.content\n",
    "soup = bs(html, \"html.parser\") \n"
   ]
  },
  {
   "cell_type": "markdown",
   "metadata": {},
   "source": [
    "#### Display the names of the trending developers retrieved in the previous step.\n",
    "\n",
    "Your output should be a Python list of developer names. Each name should not contain any html tag.\n",
    "\n",
    "**Instructions:**\n",
    "\n",
    "1. Find out the html tag and class names used for the developer names. You can achieve this using Chrome DevTools.\n",
    "\n",
    "1. Use BeautifulSoup to extract all the html elements that contain the developer names.\n",
    "\n",
    "1. Use string manipulation techniques to replace whitespaces and linebreaks (i.e. `\\n`) in the *text* of each html element. Use a list to store the clean names.\n",
    "\n",
    "1. Print the list of names.\n",
    "\n",
    "Your output should look like below:\n",
    "\n",
    "```\n",
    "['trimstray (@trimstray)',\n",
    " 'joewalnes (JoeWalnes)',\n",
    " 'charlax (Charles-AxelDein)',\n",
    " 'ForrestKnight (ForrestKnight)',\n",
    " 'revery-ui (revery-ui)',\n",
    " 'alibaba (Alibaba)',\n",
    " 'Microsoft (Microsoft)',\n",
    " 'github (GitHub)',\n",
    " 'facebook (Facebook)',\n",
    " 'boazsegev (Bo)',\n",
    " 'google (Google)',\n",
    " 'cloudfetch',\n",
    " 'sindresorhus (SindreSorhus)',\n",
    " 'tensorflow',\n",
    " 'apache (TheApacheSoftwareFoundation)',\n",
    " 'DevonCrawford (DevonCrawford)',\n",
    " 'ARMmbed (ArmMbed)',\n",
    " 'vuejs (vuejs)',\n",
    " 'fastai (fast.ai)',\n",
    " 'QiShaoXuan (Qi)',\n",
    " 'joelparkerhenderson (JoelParkerHenderson)',\n",
    " 'torvalds (LinusTorvalds)',\n",
    " 'CyC2018',\n",
    " 'komeiji-satori (神楽坂覚々)',\n",
    " 'script-8']\n",
    " ```"
   ]
  },
  {
   "cell_type": "code",
   "execution_count": 77,
   "metadata": {
    "scrolled": false
   },
   "outputs": [],
   "source": [
    "# your code here\n",
    "h1=soup.find_all('h1',{'class':'h3 lh-condensed'})"
   ]
  },
  {
   "cell_type": "code",
   "execution_count": 78,
   "metadata": {
    "scrolled": true
   },
   "outputs": [
    {
     "data": {
      "text/plain": [
       "25"
      ]
     },
     "execution_count": 78,
     "metadata": {},
     "output_type": "execute_result"
    }
   ],
   "source": [
    "tag_a = [tag.a for tag in h1]\n",
    "tag_string = [str(tag) for tag in tag_a]\n",
    "len(tag_string)"
   ]
  },
  {
   "cell_type": "code",
   "execution_count": 79,
   "metadata": {},
   "outputs": [
    {
     "data": {
      "text/plain": [
       "25"
      ]
     },
     "execution_count": 79,
     "metadata": {},
     "output_type": "execute_result"
    }
   ],
   "source": [
    "nombres = []\n",
    "for i in range(0,25):\n",
    "    nombres.append(tag_string[i].split('='))\n",
    "\n",
    "len(nombres)"
   ]
  },
  {
   "cell_type": "code",
   "execution_count": 80,
   "metadata": {},
   "outputs": [],
   "source": [
    "nombre = []\n",
    "for i in range(0,25):\n",
    "    nombre.append(nombres[i][4])"
   ]
  },
  {
   "cell_type": "code",
   "execution_count": 81,
   "metadata": {},
   "outputs": [],
   "source": [
    "a =[]\n",
    "b =[]\n",
    "for i in nombre:\n",
    "    a.append(i.split('\\n')[0])\n",
    "    b.append(i.split('\\n')[1])"
   ]
  },
  {
   "cell_type": "code",
   "execution_count": 82,
   "metadata": {},
   "outputs": [],
   "source": [
    "a_clean=[]\n",
    "a_clean2=[]\n",
    "b_clean=[]\n",
    "for i in a:\n",
    "    a_clean.append(i.replace('>',''))\n",
    "for i in a_clean:\n",
    "    a_clean2.append(i.replace('\"',''))\n",
    "for i in b:\n",
    "    b_clean.append(i.replace(' ',''))"
   ]
  },
  {
   "cell_type": "code",
   "execution_count": 83,
   "metadata": {},
   "outputs": [
    {
     "data": {
      "text/plain": [
       "['AlexGoodman (/wagoodman)',\n",
       " 'FernandoRojo (/nandorojo)',\n",
       " 'StephenCelis (/stephencelis)',\n",
       " 'SteveMacenski (/SteveMacenski)',\n",
       " 'JacobEbey (/jacob-ebey)',\n",
       " 'Avelino (/avelino)',\n",
       " 'JeremyLong (/jeremylong)',\n",
       " 'RobertMosolgo (/rmosolgo)',\n",
       " 'FernandGaliana (/derailed)',\n",
       " 'ShivamMathur (/shivammathur)',\n",
       " 'BastianKöcher (/bkchr)',\n",
       " 'FelixAngelov (/felangel)',\n",
       " 'SimonSer (/emersion)',\n",
       " 'ElizaWeisman (/hawkw)',\n",
       " 'Juliette (/jrfnl)',\n",
       " 'AntonBabenko (/antonbabenko)',\n",
       " 'BenMcCann (/benmccann)',\n",
       " 'MariuszNowak (/medikoo)',\n",
       " '07akioni (/07akioni)',\n",
       " 'JérémyBarbet (/jeremybarbet)',\n",
       " 'kezhenxu94 (/kezhenxu94)',\n",
       " 'PedroS.Lopez (/pedroslopez)',\n",
       " 'AdrianWälchli (/awaelchli)',\n",
       " 'JonnyBorges (/jonataslaw)',\n",
       " 'KarolWrótniak (/koral--)']"
      ]
     },
     "execution_count": 83,
     "metadata": {},
     "output_type": "execute_result"
    }
   ],
   "source": [
    "nombre_completo=[]\n",
    "for i in range(len(b_clean)):\n",
    "    nombre_completo.append(b_clean[i]+' '+'('+a_clean2[i]+')')\n",
    "nombre_completo"
   ]
  },
  {
   "cell_type": "markdown",
   "metadata": {},
   "source": [
    "#### Display the trending Python repositories in GitHub.\n",
    "\n",
    "The steps to solve this problem is similar to the previous one except that you need to find out the repository names instead of developer names."
   ]
  },
  {
   "cell_type": "code",
   "execution_count": 84,
   "metadata": {},
   "outputs": [],
   "source": [
    "# This is the url you will scrape in this exercise\n",
    "url2 = 'https://github.com/trending/python?since=daily'"
   ]
  },
  {
   "cell_type": "code",
   "execution_count": 85,
   "metadata": {},
   "outputs": [],
   "source": [
    "response2 = requests.get(url2)\n",
    "html2 = response2.content\n",
    "soup2 = bs(html2, \"html.parser\") "
   ]
  },
  {
   "cell_type": "code",
   "execution_count": 86,
   "metadata": {
    "scrolled": false
   },
   "outputs": [],
   "source": [
    "# your code here\n",
    "stew2=soup2.find_all('h1',{'class':'h3 lh-condensed'})"
   ]
  },
  {
   "cell_type": "code",
   "execution_count": 87,
   "metadata": {},
   "outputs": [],
   "source": [
    "tag_a2= [tag.a for tag in stew2]"
   ]
  },
  {
   "cell_type": "code",
   "execution_count": 88,
   "metadata": {
    "scrolled": true
   },
   "outputs": [
    {
     "name": "stdout",
     "output_type": "stream",
     "text": [
      "kozmer/log4j-shell-poc\n",
      "ytdl-org/youtube-dl\n",
      "NCSC-NL/log4shell\n",
      "fullhunt/log4j-scan\n",
      "fox-it/log4j-finder\n",
      "minitorch/minitorch\n",
      "psf/black\n",
      "cyberstruggle/L4sh\n",
      "kakaobrain/minDALL-E\n",
      "jackfrued/Python-100-Days\n",
      "iterativv/NostalgiaForInfinity\n",
      "tiangolo/fastapi\n",
      "zabbix/community-templates\n",
      "facebookresearch/moco\n",
      "sanic-org/sanic\n",
      "tqdm/tqdm\n",
      "PrefectHQ/prefect\n",
      "willmcgugan/rich\n",
      "MalwareTech/Log4jTools\n",
      "PaddlePaddle/PaddleClas\n",
      "niubiqigai/turtle\n",
      "kubernetes-client/python\n",
      "nccgroup/ScoutSuite\n",
      "altair-viz/altair\n",
      "CLUEbenchmark/CLUE\n"
     ]
    }
   ],
   "source": [
    "repo=[]\n",
    "for tag in tag_a2:\n",
    "    repo.append(tag['href'])\n",
    "for i in repo:\n",
    "    print(re.sub('^\\W','', i))"
   ]
  },
  {
   "cell_type": "markdown",
   "metadata": {},
   "source": [
    "#### Display all the image links from Walt Disney wikipedia page."
   ]
  },
  {
   "cell_type": "code",
   "execution_count": 89,
   "metadata": {},
   "outputs": [],
   "source": [
    "# This is the url you will scrape in this exercise\n",
    "url3 = 'https://en.wikipedia.org/wiki/Walt_Disney'"
   ]
  },
  {
   "cell_type": "code",
   "execution_count": 90,
   "metadata": {},
   "outputs": [],
   "source": [
    "# your code here\n",
    "response3 = requests.get(url3)\n",
    "html3 = response3.content\n",
    "soup3 = bs(html3, \"html.parser\") \n",
    "stew3=soup3.find_all('img')\n"
   ]
  },
  {
   "cell_type": "code",
   "execution_count": 91,
   "metadata": {},
   "outputs": [
    {
     "name": "stdout",
     "output_type": "stream",
     "text": [
      "/upload.wikimedia.org/wikipedia/en/thumb/e/e7/Cscr-featured.svg/20px-Cscr-featured.svg.png\n",
      "/upload.wikimedia.org/wikipedia/en/thumb/8/8c/Extended-protection-shackle.svg/20px-Extended-protection-shackle.svg.png\n",
      "/upload.wikimedia.org/wikipedia/commons/thumb/d/df/Walt_Disney_1946.JPG/220px-Walt_Disney_1946.JPG\n",
      "/upload.wikimedia.org/wikipedia/commons/thumb/8/87/Walt_Disney_1942_signature.svg/150px-Walt_Disney_1942_signature.svg.png\n",
      "/upload.wikimedia.org/wikipedia/commons/thumb/c/c4/Walt_Disney_envelope_ca._1921.jpg/220px-Walt_Disney_envelope_ca._1921.jpg\n",
      "/upload.wikimedia.org/wikipedia/commons/thumb/4/4d/Newman_Laugh-O-Gram_%281921%29.webm/220px-seek%3D2-Newman_Laugh-O-Gram_%281921%29.webm.jpg\n",
      "/upload.wikimedia.org/wikipedia/commons/thumb/0/0d/Trolley_Troubles_poster.jpg/170px-Trolley_Troubles_poster.jpg\n",
      "/upload.wikimedia.org/wikipedia/en/thumb/4/4e/Steamboat-willie.jpg/170px-Steamboat-willie.jpg\n",
      "/upload.wikimedia.org/wikipedia/commons/thumb/5/57/Walt_Disney_1935.jpg/170px-Walt_Disney_1935.jpg\n",
      "/upload.wikimedia.org/wikipedia/commons/thumb/c/cd/Walt_Disney_Snow_white_1937_trailer_screenshot_%2813%29.jpg/220px-Walt_Disney_Snow_white_1937_trailer_screenshot_%2813%29.jpg\n",
      "/upload.wikimedia.org/wikipedia/commons/thumb/1/15/Disney_drawing_goofy.jpg/170px-Disney_drawing_goofy.jpg\n",
      "/upload.wikimedia.org/wikipedia/commons/thumb/1/13/DisneySchiphol1951.jpg/220px-DisneySchiphol1951.jpg\n",
      "/upload.wikimedia.org/wikipedia/commons/thumb/8/8c/WaltDisneyplansDisneylandDec1954.jpg/220px-WaltDisneyplansDisneylandDec1954.jpg\n",
      "/upload.wikimedia.org/wikipedia/commons/thumb/f/ff/Walt_disney_portrait_right.jpg/170px-Walt_disney_portrait_right.jpg\n",
      "/upload.wikimedia.org/wikipedia/commons/thumb/1/1a/Walt_Disney_Grave.JPG/170px-Walt_Disney_Grave.JPG\n",
      "/upload.wikimedia.org/wikipedia/commons/thumb/2/2d/Roy_O._Disney_with_Company_at_Press_Conference.jpg/170px-Roy_O._Disney_with_Company_at_Press_Conference.jpg\n",
      "/upload.wikimedia.org/wikipedia/commons/thumb/b/b0/Disney_Oscar_1953_%28cropped%29.jpg/170px-Disney_Oscar_1953_%28cropped%29.jpg\n",
      "/upload.wikimedia.org/wikipedia/commons/thumb/6/6c/Disney1968.jpg/170px-Disney1968.jpg\n",
      "/upload.wikimedia.org/wikipedia/en/thumb/8/8a/OOjs_UI_icon_edit-ltr-progressive.svg/10px-OOjs_UI_icon_edit-ltr-progressive.svg.png\n",
      "/upload.wikimedia.org/wikipedia/commons/thumb/e/e3/Disneyland_Resort_logo.svg/135px-Disneyland_Resort_logo.svg.png\n",
      "/upload.wikimedia.org/wikipedia/commons/thumb/d/da/Animation_disc.svg/30px-Animation_disc.svg.png\n",
      "/upload.wikimedia.org/wikipedia/en/thumb/6/69/P_vip.svg/29px-P_vip.svg.png\n",
      "/upload.wikimedia.org/wikipedia/commons/thumb/1/1a/Magic_Kingdom_castle.jpg/24px-Magic_Kingdom_castle.jpg\n",
      "/upload.wikimedia.org/wikipedia/en/thumb/e/e7/Video-x-generic.svg/30px-Video-x-generic.svg.png\n",
      "/upload.wikimedia.org/wikipedia/commons/thumb/a/a3/Flag_of_Los_Angeles_County%2C_California.svg/30px-Flag_of_Los_Angeles_County%2C_California.svg.png\n",
      "/upload.wikimedia.org/wikipedia/commons/thumb/8/8c/Blank_television_set.svg/30px-Blank_television_set.svg.png\n",
      "/upload.wikimedia.org/wikipedia/en/thumb/a/a4/Flag_of_the_United_States.svg/30px-Flag_of_the_United_States.svg.png\n",
      "/upload.wikimedia.org/wikipedia/en/thumb/4/4a/Commons-logo.svg/22px-Commons-logo.svg.png\n",
      "/upload.wikimedia.org/wikipedia/commons/thumb/f/fa/Wikiquote-logo.svg/25px-Wikiquote-logo.svg.png\n",
      "/upload.wikimedia.org/wikipedia/commons/thumb/f/ff/Wikidata-logo.svg/30px-Wikidata-logo.svg.png\n",
      "/upload.wikimedia.org/wikipedia/en/thumb/8/8a/OOjs_UI_icon_edit-ltr-progressive.svg/10px-OOjs_UI_icon_edit-ltr-progressive.svg.png\n",
      "/en.wikipedia.org/wiki/Special:CentralAutoLogin/start?type=1x1\n",
      "static/images/footer/wikimedia-button.png\n",
      "static/images/footer/poweredby_mediawiki_88x31.png\n"
     ]
    }
   ],
   "source": [
    "images=[]\n",
    "for tag in stew3:\n",
    "    images.append(tag['src'])\n",
    "for i in images:\n",
    "    print(re.sub('^\\W','', i))"
   ]
  },
  {
   "cell_type": "markdown",
   "metadata": {},
   "source": [
    "#### Retrieve an arbitary Wikipedia page of \"Python\" and create a list of links on that page."
   ]
  },
  {
   "cell_type": "code",
   "execution_count": 92,
   "metadata": {},
   "outputs": [],
   "source": [
    "# This is the url you will scrape in this exercise\n",
    "url4 ='https://en.wikipedia.org/wiki/Python' "
   ]
  },
  {
   "cell_type": "code",
   "execution_count": 93,
   "metadata": {},
   "outputs": [],
   "source": [
    "# your code here\n",
    "response4 = requests.get(url4)\n",
    "html4 = response4.content\n",
    "soup4 = bs(html4, \"html.parser\") \n",
    "stew4=soup4.find_all('a',{'href':re.compile('/wiki/Python')})"
   ]
  },
  {
   "cell_type": "code",
   "execution_count": 94,
   "metadata": {},
   "outputs": [
    {
     "data": {
      "text/plain": [
       "['https://en.wiktionary.org/wiki/Python',\n",
       " '/wiki/Pythonidae',\n",
       " '/wiki/Python_(genus)',\n",
       " '/wiki/Python_(programming_language)',\n",
       " '/wiki/Python_of_Aenus',\n",
       " '/wiki/Python_(painter)',\n",
       " '/wiki/Python_of_Byzantium',\n",
       " '/wiki/Python_of_Catana',\n",
       " '/wiki/Python_Anghelo',\n",
       " '/wiki/Python_(Efteling)',\n",
       " '/wiki/Python_(Busch_Gardens_Tampa_Bay)',\n",
       " '/wiki/Python_(Coney_Island,_Cincinnati,_Ohio)',\n",
       " '/wiki/Python_(automobile_maker)',\n",
       " '/wiki/Python_(Ford_prototype)',\n",
       " '/wiki/Python_(missile)',\n",
       " '/wiki/Python_(nuclear_primary)',\n",
       " '/wiki/Python_(film)',\n",
       " '/wiki/Python_(mythology)',\n",
       " '/wiki/Python_(Monty)_Pictures',\n",
       " '/wiki/Python',\n",
       " '/wiki/Python',\n",
       " 'https://af.wikipedia.org/wiki/Python',\n",
       " 'https://als.wikipedia.org/wiki/Python',\n",
       " 'https://az.wikipedia.org/wiki/Python',\n",
       " 'https://be.wikipedia.org/wiki/Python',\n",
       " 'https://cs.wikipedia.org/wiki/Python_(rozcestn%C3%ADk)',\n",
       " 'https://da.wikipedia.org/wiki/Python',\n",
       " 'https://de.wikipedia.org/wiki/Python',\n",
       " 'https://eu.wikipedia.org/wiki/Python_(argipena)',\n",
       " 'https://fr.wikipedia.org/wiki/Python',\n",
       " 'https://hr.wikipedia.org/wiki/Python_(razdvojba)',\n",
       " 'https://id.wikipedia.org/wiki/Python',\n",
       " 'https://ia.wikipedia.org/wiki/Python_(disambiguation)',\n",
       " 'https://is.wikipedia.org/wiki/Python_(a%C3%B0greining)',\n",
       " 'https://it.wikipedia.org/wiki/Python_(disambigua)',\n",
       " 'https://la.wikipedia.org/wiki/Python_(discretiva)',\n",
       " 'https://lb.wikipedia.org/wiki/Python',\n",
       " 'https://hu.wikipedia.org/wiki/Python_(egy%C3%A9rtelm%C5%B1s%C3%ADt%C5%91_lap)',\n",
       " 'https://nl.wikipedia.org/wiki/Python',\n",
       " 'https://pt.wikipedia.org/wiki/Python_(desambigua%C3%A7%C3%A3o)',\n",
       " 'https://ru.wikipedia.org/wiki/Python_(%D0%B7%D0%BD%D0%B0%D1%87%D0%B5%D0%BD%D0%B8%D1%8F)',\n",
       " 'https://sk.wikipedia.org/wiki/Python',\n",
       " 'https://sh.wikipedia.org/wiki/Python',\n",
       " 'https://fi.wikipedia.org/wiki/Python',\n",
       " 'https://tr.wikipedia.org/wiki/Python',\n",
       " 'https://vi.wikipedia.org/wiki/Python',\n",
       " 'https://zh.wikipedia.org/wiki/Python_(%E6%B6%88%E6%AD%A7%E4%B9%89)']"
      ]
     },
     "execution_count": 94,
     "metadata": {},
     "output_type": "execute_result"
    }
   ],
   "source": [
    "links=[]\n",
    "for tag in stew4:\n",
    "    links.append(tag['href'])\n",
    "links"
   ]
  },
  {
   "cell_type": "markdown",
   "metadata": {},
   "source": [
    "#### Find the number of titles that have changed in the United States Code since its last release point."
   ]
  },
  {
   "cell_type": "code",
   "execution_count": 95,
   "metadata": {},
   "outputs": [],
   "source": [
    "# This is the url you will scrape in this exercise\n",
    "url5 = 'http://uscode.house.gov/download/download.shtml'"
   ]
  },
  {
   "cell_type": "code",
   "execution_count": 96,
   "metadata": {},
   "outputs": [
    {
     "data": {
      "text/plain": [
       "[<div class=\"usctitlechanged\" id=\"us/usc/t31\">\n",
       " \n",
       "           Title 31 - Money and Finance <span class=\"footnote\"><a class=\"fn\" href=\"#fn\">٭</a></span>\n",
       " </div>]"
      ]
     },
     "execution_count": 96,
     "metadata": {},
     "output_type": "execute_result"
    }
   ],
   "source": [
    "# your code here\n",
    "response5 = requests.get(url5)\n",
    "html5 = response5.content\n",
    "soup5 = bs(html5, \"html.parser\") \n",
    "stew5=soup5.find_all('div',{'class':'usctitlechanged'})\n",
    "stew5"
   ]
  },
  {
   "cell_type": "code",
   "execution_count": 97,
   "metadata": {},
   "outputs": [
    {
     "data": {
      "text/plain": [
       "['Title 31 - Money and Finance ٭']"
      ]
     },
     "execution_count": 97,
     "metadata": {},
     "output_type": "execute_result"
    }
   ],
   "source": [
    "tag_us = [tag.text.replace('\\n','').strip() for tag in stew5]\n",
    "   \n",
    "tag_us"
   ]
  },
  {
   "cell_type": "markdown",
   "metadata": {},
   "source": [
    "#### Find a Python list with the top ten FBI's Most Wanted names."
   ]
  },
  {
   "cell_type": "code",
   "execution_count": 98,
   "metadata": {},
   "outputs": [],
   "source": [
    "# This is the url you will scrape in this exercise\n",
    "url6 = 'https://www.fbi.gov/wanted/topten'"
   ]
  },
  {
   "cell_type": "code",
   "execution_count": 99,
   "metadata": {},
   "outputs": [],
   "source": [
    "# your code here\n",
    "response6 = requests.get(url6)\n",
    "html6 = response6.content\n",
    "soup6 = bs(html6, \"html.parser\") \n",
    "stew6=soup6.find_all('h3',{'class':'title'})\n"
   ]
  },
  {
   "cell_type": "code",
   "execution_count": 100,
   "metadata": {},
   "outputs": [
    {
     "data": {
      "text/plain": [
       "['JASON DEREK BROWN',\n",
       " 'ALEXIS FLORES',\n",
       " 'JOSE RODOLFO VILLARREAL-HERNANDEZ',\n",
       " 'OCTAVIANO JUAREZ-CORRO',\n",
       " 'RAFAEL CARO-QUINTERO',\n",
       " 'YULAN ADONAY ARCHAGA CARIAS',\n",
       " 'EUGENE PALMER',\n",
       " 'BHADRESHKUMAR CHETANBHAI PATEL',\n",
       " 'ALEJANDRO ROSALES CASTILLO',\n",
       " 'ARNOLDO JIMENEZ']"
      ]
     },
     "execution_count": 100,
     "metadata": {},
     "output_type": "execute_result"
    }
   ],
   "source": [
    "tag_fbi = [tag.a.string for tag in stew6]\n",
    "tag_fbi"
   ]
  },
  {
   "cell_type": "markdown",
   "metadata": {},
   "source": [
    "####  Display the 20 latest earthquakes info (date, time, latitude, longitude and region name) by the EMSC as a pandas dataframe."
   ]
  },
  {
   "cell_type": "code",
   "execution_count": 101,
   "metadata": {},
   "outputs": [],
   "source": [
    "# This is the url you will scrape in this exercise\n",
    "url7 = 'https://www.emsc-csem.org/Earthquake/'"
   ]
  },
  {
   "cell_type": "code",
   "execution_count": 102,
   "metadata": {},
   "outputs": [
    {
     "name": "stderr",
     "output_type": "stream",
     "text": [
      "/Users/Andrea/miniconda3/envs/ironhack/lib/python3.7/site-packages/pandas/core/generic.py:4150: PerformanceWarning: dropping on a non-lexsorted multi-index without a level parameter may impact performance.\n",
      "  obj = obj._drop_axis(labels, axis, level=level, errors=errors)\n"
     ]
    },
    {
     "data": {
      "text/html": [
       "<div>\n",
       "<style scoped>\n",
       "    .dataframe tbody tr th:only-of-type {\n",
       "        vertical-align: middle;\n",
       "    }\n",
       "\n",
       "    .dataframe tbody tr th {\n",
       "        vertical-align: top;\n",
       "    }\n",
       "\n",
       "    .dataframe thead tr th {\n",
       "        text-align: left;\n",
       "    }\n",
       "</style>\n",
       "<table border=\"1\" class=\"dataframe\">\n",
       "  <thead>\n",
       "    <tr>\n",
       "      <th></th>\n",
       "      <th>Date &amp; Time UTC</th>\n",
       "      <th colspan=\"2\" halign=\"left\">Latitude degrees</th>\n",
       "      <th colspan=\"2\" halign=\"left\">Longitude degrees</th>\n",
       "      <th>Region name [+]</th>\n",
       "    </tr>\n",
       "    <tr>\n",
       "      <th></th>\n",
       "      <th>12345678910»</th>\n",
       "      <th>12345678910»</th>\n",
       "      <th>12345678910».1</th>\n",
       "      <th>12345678910»</th>\n",
       "      <th>12345678910».1</th>\n",
       "      <th>12345678910»</th>\n",
       "    </tr>\n",
       "  </thead>\n",
       "  <tbody>\n",
       "    <tr>\n",
       "      <th>0</th>\n",
       "      <td>2021-12-17 19:37:02.010min ago</td>\n",
       "      <td>7.50</td>\n",
       "      <td>S</td>\n",
       "      <td>122.02</td>\n",
       "      <td>E</td>\n",
       "      <td>3.5</td>\n",
       "    </tr>\n",
       "    <tr>\n",
       "      <th>1</th>\n",
       "      <td>2021-12-17 19:30:46.916min ago</td>\n",
       "      <td>35.48</td>\n",
       "      <td>N</td>\n",
       "      <td>3.69</td>\n",
       "      <td>W</td>\n",
       "      <td>2.5</td>\n",
       "    </tr>\n",
       "    <tr>\n",
       "      <th>2</th>\n",
       "      <td>2021-12-17 19:19:49.827min ago</td>\n",
       "      <td>28.60</td>\n",
       "      <td>N</td>\n",
       "      <td>17.82</td>\n",
       "      <td>W</td>\n",
       "      <td>2.2</td>\n",
       "    </tr>\n",
       "    <tr>\n",
       "      <th>3</th>\n",
       "      <td>2021-12-17 19:19:46.127min ago</td>\n",
       "      <td>35.54</td>\n",
       "      <td>N</td>\n",
       "      <td>96.76</td>\n",
       "      <td>W</td>\n",
       "      <td>2.0</td>\n",
       "    </tr>\n",
       "    <tr>\n",
       "      <th>4</th>\n",
       "      <td>2021-12-17 19:16:44.030min ago</td>\n",
       "      <td>7.49</td>\n",
       "      <td>S</td>\n",
       "      <td>122.29</td>\n",
       "      <td>E</td>\n",
       "      <td>3.2</td>\n",
       "    </tr>\n",
       "    <tr>\n",
       "      <th>5</th>\n",
       "      <td>2021-12-17 19:11:12.035min ago</td>\n",
       "      <td>7.53</td>\n",
       "      <td>S</td>\n",
       "      <td>121.90</td>\n",
       "      <td>E</td>\n",
       "      <td>3.3</td>\n",
       "    </tr>\n",
       "    <tr>\n",
       "      <th>6</th>\n",
       "      <td>2021-12-17 19:03:21.043min ago</td>\n",
       "      <td>8.04</td>\n",
       "      <td>S</td>\n",
       "      <td>122.45</td>\n",
       "      <td>E</td>\n",
       "      <td>2.9</td>\n",
       "    </tr>\n",
       "    <tr>\n",
       "      <th>7</th>\n",
       "      <td>2021-12-17 18:59:35.647min ago</td>\n",
       "      <td>33.75</td>\n",
       "      <td>N</td>\n",
       "      <td>115.92</td>\n",
       "      <td>W</td>\n",
       "      <td>2.1</td>\n",
       "    </tr>\n",
       "    <tr>\n",
       "      <th>8</th>\n",
       "      <td>2021-12-17 18:50:46.956min ago</td>\n",
       "      <td>43.49</td>\n",
       "      <td>N</td>\n",
       "      <td>5.84</td>\n",
       "      <td>W</td>\n",
       "      <td>2.3</td>\n",
       "    </tr>\n",
       "    <tr>\n",
       "      <th>9</th>\n",
       "      <td>2021-12-17 18:49:47.157min ago</td>\n",
       "      <td>19.18</td>\n",
       "      <td>N</td>\n",
       "      <td>155.47</td>\n",
       "      <td>W</td>\n",
       "      <td>2.7</td>\n",
       "    </tr>\n",
       "    <tr>\n",
       "      <th>10</th>\n",
       "      <td>2021-12-17 18:27:09.61hr 19min ago</td>\n",
       "      <td>19.23</td>\n",
       "      <td>N</td>\n",
       "      <td>155.43</td>\n",
       "      <td>W</td>\n",
       "      <td>3.8</td>\n",
       "    </tr>\n",
       "    <tr>\n",
       "      <th>11</th>\n",
       "      <td>2021-12-17 18:20:10.01hr 26min ago</td>\n",
       "      <td>7.36</td>\n",
       "      <td>S</td>\n",
       "      <td>121.02</td>\n",
       "      <td>E</td>\n",
       "      <td>3.0</td>\n",
       "    </tr>\n",
       "    <tr>\n",
       "      <th>12</th>\n",
       "      <td>2021-12-17 18:16:24.31hr 30min ago</td>\n",
       "      <td>28.59</td>\n",
       "      <td>N</td>\n",
       "      <td>17.82</td>\n",
       "      <td>W</td>\n",
       "      <td>2.2</td>\n",
       "    </tr>\n",
       "    <tr>\n",
       "      <th>13</th>\n",
       "      <td>2021-12-17 18:11:46.01hr 35min ago</td>\n",
       "      <td>7.11</td>\n",
       "      <td>S</td>\n",
       "      <td>119.73</td>\n",
       "      <td>E</td>\n",
       "      <td>2.6</td>\n",
       "    </tr>\n",
       "    <tr>\n",
       "      <th>14</th>\n",
       "      <td>2021-12-17 17:56:57.01hr 50min ago</td>\n",
       "      <td>8.25</td>\n",
       "      <td>S</td>\n",
       "      <td>124.76</td>\n",
       "      <td>E</td>\n",
       "      <td>3.2</td>\n",
       "    </tr>\n",
       "    <tr>\n",
       "      <th>15</th>\n",
       "      <td>2021-12-17 17:52:49.01hr 54min ago</td>\n",
       "      <td>7.26</td>\n",
       "      <td>S</td>\n",
       "      <td>122.31</td>\n",
       "      <td>E</td>\n",
       "      <td>2.9</td>\n",
       "    </tr>\n",
       "    <tr>\n",
       "      <th>16</th>\n",
       "      <td>2021-12-17 17:41:03.02hr 06min ago</td>\n",
       "      <td>9.26</td>\n",
       "      <td>S</td>\n",
       "      <td>120.17</td>\n",
       "      <td>E</td>\n",
       "      <td>3.5</td>\n",
       "    </tr>\n",
       "    <tr>\n",
       "      <th>17</th>\n",
       "      <td>2021-12-17 17:39:11.02hr 07min ago</td>\n",
       "      <td>31.46</td>\n",
       "      <td>N</td>\n",
       "      <td>77.03</td>\n",
       "      <td>E</td>\n",
       "      <td>2.9</td>\n",
       "    </tr>\n",
       "    <tr>\n",
       "      <th>18</th>\n",
       "      <td>2021-12-17 17:35:42.02hr 11min ago</td>\n",
       "      <td>8.39</td>\n",
       "      <td>N</td>\n",
       "      <td>82.86</td>\n",
       "      <td>W</td>\n",
       "      <td>3.1</td>\n",
       "    </tr>\n",
       "    <tr>\n",
       "      <th>19</th>\n",
       "      <td>2021-12-17 17:25:05.32hr 21min ago</td>\n",
       "      <td>19.24</td>\n",
       "      <td>N</td>\n",
       "      <td>155.41</td>\n",
       "      <td>W</td>\n",
       "      <td>2.8</td>\n",
       "    </tr>\n",
       "    <tr>\n",
       "      <th>20</th>\n",
       "      <td>2021-12-17 17:24:45.02hr 22min ago</td>\n",
       "      <td>7.71</td>\n",
       "      <td>S</td>\n",
       "      <td>122.31</td>\n",
       "      <td>E</td>\n",
       "      <td>3.5</td>\n",
       "    </tr>\n",
       "    <tr>\n",
       "      <th>21</th>\n",
       "      <td>2021-12-17 17:21:22.82hr 25min ago</td>\n",
       "      <td>19.21</td>\n",
       "      <td>N</td>\n",
       "      <td>155.49</td>\n",
       "      <td>W</td>\n",
       "      <td>2.0</td>\n",
       "    </tr>\n",
       "    <tr>\n",
       "      <th>22</th>\n",
       "      <td>2021-12-17 17:19:20.02hr 27min ago</td>\n",
       "      <td>7.46</td>\n",
       "      <td>S</td>\n",
       "      <td>121.23</td>\n",
       "      <td>E</td>\n",
       "      <td>4.3</td>\n",
       "    </tr>\n",
       "    <tr>\n",
       "      <th>23</th>\n",
       "      <td>2021-12-17 17:04:07.62hr 42min ago</td>\n",
       "      <td>18.85</td>\n",
       "      <td>N</td>\n",
       "      <td>155.32</td>\n",
       "      <td>W</td>\n",
       "      <td>2.6</td>\n",
       "    </tr>\n",
       "    <tr>\n",
       "      <th>24</th>\n",
       "      <td>2021-12-17 17:01:12.02hr 45min ago</td>\n",
       "      <td>35.43</td>\n",
       "      <td>N</td>\n",
       "      <td>3.61</td>\n",
       "      <td>W</td>\n",
       "      <td>2.7</td>\n",
       "    </tr>\n",
       "    <tr>\n",
       "      <th>25</th>\n",
       "      <td>2021-12-17 16:57:39.22hr 49min ago</td>\n",
       "      <td>28.10</td>\n",
       "      <td>N</td>\n",
       "      <td>16.92</td>\n",
       "      <td>W</td>\n",
       "      <td>1.6</td>\n",
       "    </tr>\n",
       "    <tr>\n",
       "      <th>26</th>\n",
       "      <td>2021-12-17 16:36:12.53hr 10min ago</td>\n",
       "      <td>28.60</td>\n",
       "      <td>N</td>\n",
       "      <td>17.85</td>\n",
       "      <td>W</td>\n",
       "      <td>2.7</td>\n",
       "    </tr>\n",
       "    <tr>\n",
       "      <th>27</th>\n",
       "      <td>2021-12-17 16:32:05.73hr 14min ago</td>\n",
       "      <td>28.56</td>\n",
       "      <td>N</td>\n",
       "      <td>17.82</td>\n",
       "      <td>W</td>\n",
       "      <td>1.9</td>\n",
       "    </tr>\n",
       "    <tr>\n",
       "      <th>28</th>\n",
       "      <td>2021-12-17 16:31:40.03hr 15min ago</td>\n",
       "      <td>7.43</td>\n",
       "      <td>S</td>\n",
       "      <td>121.72</td>\n",
       "      <td>E</td>\n",
       "      <td>3.2</td>\n",
       "    </tr>\n",
       "    <tr>\n",
       "      <th>29</th>\n",
       "      <td>2021-12-17 16:29:03.03hr 18min ago</td>\n",
       "      <td>1.81</td>\n",
       "      <td>S</td>\n",
       "      <td>122.63</td>\n",
       "      <td>E</td>\n",
       "      <td>3.3</td>\n",
       "    </tr>\n",
       "    <tr>\n",
       "      <th>30</th>\n",
       "      <td>2021-12-17 16:25:04.03hr 21min ago</td>\n",
       "      <td>28.58</td>\n",
       "      <td>N</td>\n",
       "      <td>17.84</td>\n",
       "      <td>W</td>\n",
       "      <td>2.4</td>\n",
       "    </tr>\n",
       "    <tr>\n",
       "      <th>31</th>\n",
       "      <td>2021-12-17 16:21:56.83hr 25min ago</td>\n",
       "      <td>41.37</td>\n",
       "      <td>S</td>\n",
       "      <td>175.01</td>\n",
       "      <td>E</td>\n",
       "      <td>3.2</td>\n",
       "    </tr>\n",
       "    <tr>\n",
       "      <th>32</th>\n",
       "      <td>2021-12-17 16:08:31.03hr 38min ago</td>\n",
       "      <td>41.12</td>\n",
       "      <td>N</td>\n",
       "      <td>43.87</td>\n",
       "      <td>E</td>\n",
       "      <td>2.0</td>\n",
       "    </tr>\n",
       "    <tr>\n",
       "      <th>33</th>\n",
       "      <td>2021-12-17 16:00:25.03hr 46min ago</td>\n",
       "      <td>21.23</td>\n",
       "      <td>S</td>\n",
       "      <td>68.04</td>\n",
       "      <td>W</td>\n",
       "      <td>3.0</td>\n",
       "    </tr>\n",
       "    <tr>\n",
       "      <th>34</th>\n",
       "      <td>2021-12-17 15:49:49.83hr 57min ago</td>\n",
       "      <td>19.21</td>\n",
       "      <td>N</td>\n",
       "      <td>155.41</td>\n",
       "      <td>W</td>\n",
       "      <td>2.1</td>\n",
       "    </tr>\n",
       "    <tr>\n",
       "      <th>35</th>\n",
       "      <td>2021-12-17 15:49:42.03hr 57min ago</td>\n",
       "      <td>28.60</td>\n",
       "      <td>N</td>\n",
       "      <td>17.81</td>\n",
       "      <td>W</td>\n",
       "      <td>2.4</td>\n",
       "    </tr>\n",
       "    <tr>\n",
       "      <th>36</th>\n",
       "      <td>2021-12-17 15:45:09.34hr 01min ago</td>\n",
       "      <td>28.57</td>\n",
       "      <td>N</td>\n",
       "      <td>17.86</td>\n",
       "      <td>W</td>\n",
       "      <td>1.9</td>\n",
       "    </tr>\n",
       "    <tr>\n",
       "      <th>37</th>\n",
       "      <td>2021-12-17 15:44:10.04hr 02min ago</td>\n",
       "      <td>0.27</td>\n",
       "      <td>S</td>\n",
       "      <td>125.80</td>\n",
       "      <td>E</td>\n",
       "      <td>3.2</td>\n",
       "    </tr>\n",
       "    <tr>\n",
       "      <th>38</th>\n",
       "      <td>2021-12-17 15:40:25.94hr 06min ago</td>\n",
       "      <td>37.74</td>\n",
       "      <td>S</td>\n",
       "      <td>179.73</td>\n",
       "      <td>E</td>\n",
       "      <td>3.4</td>\n",
       "    </tr>\n",
       "    <tr>\n",
       "      <th>39</th>\n",
       "      <td>2021-12-17 15:39:34.04hr 07min ago</td>\n",
       "      <td>7.93</td>\n",
       "      <td>S</td>\n",
       "      <td>120.51</td>\n",
       "      <td>E</td>\n",
       "      <td>2.7</td>\n",
       "    </tr>\n",
       "    <tr>\n",
       "      <th>40</th>\n",
       "      <td>2021-12-17 15:39:26.04hr 07min ago</td>\n",
       "      <td>40.38</td>\n",
       "      <td>S</td>\n",
       "      <td>73.83</td>\n",
       "      <td>W</td>\n",
       "      <td>3.0</td>\n",
       "    </tr>\n",
       "    <tr>\n",
       "      <th>41</th>\n",
       "      <td>2021-12-17 15:32:31.04hr 14min ago</td>\n",
       "      <td>21.15</td>\n",
       "      <td>S</td>\n",
       "      <td>67.78</td>\n",
       "      <td>W</td>\n",
       "      <td>3.7</td>\n",
       "    </tr>\n",
       "    <tr>\n",
       "      <th>42</th>\n",
       "      <td>2021-12-17 15:31:56.04hr 15min ago</td>\n",
       "      <td>6.92</td>\n",
       "      <td>S</td>\n",
       "      <td>122.37</td>\n",
       "      <td>E</td>\n",
       "      <td>3.0</td>\n",
       "    </tr>\n",
       "    <tr>\n",
       "      <th>43</th>\n",
       "      <td>2021-12-17 15:24:47.04hr 22min ago</td>\n",
       "      <td>21.41</td>\n",
       "      <td>N</td>\n",
       "      <td>121.37</td>\n",
       "      <td>E</td>\n",
       "      <td>3.9</td>\n",
       "    </tr>\n",
       "    <tr>\n",
       "      <th>44</th>\n",
       "      <td>2021-12-17 15:12:22.54hr 34min ago</td>\n",
       "      <td>29.59</td>\n",
       "      <td>N</td>\n",
       "      <td>51.40</td>\n",
       "      <td>E</td>\n",
       "      <td>3.5</td>\n",
       "    </tr>\n",
       "    <tr>\n",
       "      <th>45</th>\n",
       "      <td>2021-12-17 15:06:30.44hr 40min ago</td>\n",
       "      <td>28.62</td>\n",
       "      <td>N</td>\n",
       "      <td>17.87</td>\n",
       "      <td>W</td>\n",
       "      <td>1.5</td>\n",
       "    </tr>\n",
       "    <tr>\n",
       "      <th>46</th>\n",
       "      <td>2021-12-17 15:04:44.04hr 42min ago</td>\n",
       "      <td>24.00</td>\n",
       "      <td>S</td>\n",
       "      <td>68.01</td>\n",
       "      <td>W</td>\n",
       "      <td>2.7</td>\n",
       "    </tr>\n",
       "    <tr>\n",
       "      <th>47</th>\n",
       "      <td>2021-12-17 14:58:05.04hr 48min ago</td>\n",
       "      <td>12.86</td>\n",
       "      <td>N</td>\n",
       "      <td>123.55</td>\n",
       "      <td>E</td>\n",
       "      <td>4.0</td>\n",
       "    </tr>\n",
       "    <tr>\n",
       "      <th>48</th>\n",
       "      <td>2021-12-17 14:54:59.94hr 52min ago</td>\n",
       "      <td>28.56</td>\n",
       "      <td>N</td>\n",
       "      <td>17.85</td>\n",
       "      <td>W</td>\n",
       "      <td>2.8</td>\n",
       "    </tr>\n",
       "    <tr>\n",
       "      <th>49</th>\n",
       "      <td>2021-12-17 14:51:30.84hr 55min ago</td>\n",
       "      <td>19.21</td>\n",
       "      <td>N</td>\n",
       "      <td>155.41</td>\n",
       "      <td>W</td>\n",
       "      <td>2.1</td>\n",
       "    </tr>\n",
       "    <tr>\n",
       "      <th>50</th>\n",
       "      <td>NaN</td>\n",
       "      <td>NaN</td>\n",
       "      <td>NaN</td>\n",
       "      <td>NaN</td>\n",
       "      <td>NaN</td>\n",
       "      <td>NaN</td>\n",
       "    </tr>\n",
       "    <tr>\n",
       "      <th>51</th>\n",
       "      <td>12345678910»</td>\n",
       "      <td>12345678910»</td>\n",
       "      <td>12345678910»</td>\n",
       "      <td>12345678910»</td>\n",
       "      <td>12345678910»</td>\n",
       "      <td>12345678910»</td>\n",
       "    </tr>\n",
       "    <tr>\n",
       "      <th>52</th>\n",
       "      <td>NaN</td>\n",
       "      <td>NaN</td>\n",
       "      <td>NaN</td>\n",
       "      <td>NaN</td>\n",
       "      <td>NaN</td>\n",
       "      <td>NaN</td>\n",
       "    </tr>\n",
       "  </tbody>\n",
       "</table>\n",
       "</div>"
      ],
      "text/plain": [
       "                       Date & Time UTC Latitude degrees                  \\\n",
       "                         12345678910»    12345678910» 12345678910».1   \n",
       "0       2021-12-17 19:37:02.010min ago             7.50               S   \n",
       "1       2021-12-17 19:30:46.916min ago            35.48               N   \n",
       "2       2021-12-17 19:19:49.827min ago            28.60               N   \n",
       "3       2021-12-17 19:19:46.127min ago            35.54               N   \n",
       "4       2021-12-17 19:16:44.030min ago             7.49               S   \n",
       "5       2021-12-17 19:11:12.035min ago             7.53               S   \n",
       "6       2021-12-17 19:03:21.043min ago             8.04               S   \n",
       "7       2021-12-17 18:59:35.647min ago            33.75               N   \n",
       "8       2021-12-17 18:50:46.956min ago            43.49               N   \n",
       "9       2021-12-17 18:49:47.157min ago            19.18               N   \n",
       "10  2021-12-17 18:27:09.61hr 19min ago            19.23               N   \n",
       "11  2021-12-17 18:20:10.01hr 26min ago             7.36               S   \n",
       "12  2021-12-17 18:16:24.31hr 30min ago            28.59               N   \n",
       "13  2021-12-17 18:11:46.01hr 35min ago             7.11               S   \n",
       "14  2021-12-17 17:56:57.01hr 50min ago             8.25               S   \n",
       "15  2021-12-17 17:52:49.01hr 54min ago             7.26               S   \n",
       "16  2021-12-17 17:41:03.02hr 06min ago             9.26               S   \n",
       "17  2021-12-17 17:39:11.02hr 07min ago            31.46               N   \n",
       "18  2021-12-17 17:35:42.02hr 11min ago             8.39               N   \n",
       "19  2021-12-17 17:25:05.32hr 21min ago            19.24               N   \n",
       "20  2021-12-17 17:24:45.02hr 22min ago             7.71               S   \n",
       "21  2021-12-17 17:21:22.82hr 25min ago            19.21               N   \n",
       "22  2021-12-17 17:19:20.02hr 27min ago             7.46               S   \n",
       "23  2021-12-17 17:04:07.62hr 42min ago            18.85               N   \n",
       "24  2021-12-17 17:01:12.02hr 45min ago            35.43               N   \n",
       "25  2021-12-17 16:57:39.22hr 49min ago            28.10               N   \n",
       "26  2021-12-17 16:36:12.53hr 10min ago            28.60               N   \n",
       "27  2021-12-17 16:32:05.73hr 14min ago            28.56               N   \n",
       "28  2021-12-17 16:31:40.03hr 15min ago             7.43               S   \n",
       "29  2021-12-17 16:29:03.03hr 18min ago             1.81               S   \n",
       "30  2021-12-17 16:25:04.03hr 21min ago            28.58               N   \n",
       "31  2021-12-17 16:21:56.83hr 25min ago            41.37               S   \n",
       "32  2021-12-17 16:08:31.03hr 38min ago            41.12               N   \n",
       "33  2021-12-17 16:00:25.03hr 46min ago            21.23               S   \n",
       "34  2021-12-17 15:49:49.83hr 57min ago            19.21               N   \n",
       "35  2021-12-17 15:49:42.03hr 57min ago            28.60               N   \n",
       "36  2021-12-17 15:45:09.34hr 01min ago            28.57               N   \n",
       "37  2021-12-17 15:44:10.04hr 02min ago             0.27               S   \n",
       "38  2021-12-17 15:40:25.94hr 06min ago            37.74               S   \n",
       "39  2021-12-17 15:39:34.04hr 07min ago             7.93               S   \n",
       "40  2021-12-17 15:39:26.04hr 07min ago            40.38               S   \n",
       "41  2021-12-17 15:32:31.04hr 14min ago            21.15               S   \n",
       "42  2021-12-17 15:31:56.04hr 15min ago             6.92               S   \n",
       "43  2021-12-17 15:24:47.04hr 22min ago            21.41               N   \n",
       "44  2021-12-17 15:12:22.54hr 34min ago            29.59               N   \n",
       "45  2021-12-17 15:06:30.44hr 40min ago            28.62               N   \n",
       "46  2021-12-17 15:04:44.04hr 42min ago            24.00               S   \n",
       "47  2021-12-17 14:58:05.04hr 48min ago            12.86               N   \n",
       "48  2021-12-17 14:54:59.94hr 52min ago            28.56               N   \n",
       "49  2021-12-17 14:51:30.84hr 55min ago            19.21               N   \n",
       "50                                 NaN              NaN             NaN   \n",
       "51                       12345678910»    12345678910»   12345678910»   \n",
       "52                                 NaN              NaN             NaN   \n",
       "\n",
       "   Longitude degrees                 Region name [+]  \n",
       "       12345678910» 12345678910».1   12345678910»  \n",
       "0             122.02               E             3.5  \n",
       "1               3.69               W             2.5  \n",
       "2              17.82               W             2.2  \n",
       "3              96.76               W             2.0  \n",
       "4             122.29               E             3.2  \n",
       "5             121.90               E             3.3  \n",
       "6             122.45               E             2.9  \n",
       "7             115.92               W             2.1  \n",
       "8               5.84               W             2.3  \n",
       "9             155.47               W             2.7  \n",
       "10            155.43               W             3.8  \n",
       "11            121.02               E             3.0  \n",
       "12             17.82               W             2.2  \n",
       "13            119.73               E             2.6  \n",
       "14            124.76               E             3.2  \n",
       "15            122.31               E             2.9  \n",
       "16            120.17               E             3.5  \n",
       "17             77.03               E             2.9  \n",
       "18             82.86               W             3.1  \n",
       "19            155.41               W             2.8  \n",
       "20            122.31               E             3.5  \n",
       "21            155.49               W             2.0  \n",
       "22            121.23               E             4.3  \n",
       "23            155.32               W             2.6  \n",
       "24              3.61               W             2.7  \n",
       "25             16.92               W             1.6  \n",
       "26             17.85               W             2.7  \n",
       "27             17.82               W             1.9  \n",
       "28            121.72               E             3.2  \n",
       "29            122.63               E             3.3  \n",
       "30             17.84               W             2.4  \n",
       "31            175.01               E             3.2  \n",
       "32             43.87               E             2.0  \n",
       "33             68.04               W             3.0  \n",
       "34            155.41               W             2.1  \n",
       "35             17.81               W             2.4  \n",
       "36             17.86               W             1.9  \n",
       "37            125.80               E             3.2  \n",
       "38            179.73               E             3.4  \n",
       "39            120.51               E             2.7  \n",
       "40             73.83               W             3.0  \n",
       "41             67.78               W             3.7  \n",
       "42            122.37               E             3.0  \n",
       "43            121.37               E             3.9  \n",
       "44             51.40               E             3.5  \n",
       "45             17.87               W             1.5  \n",
       "46             68.01               W             2.7  \n",
       "47            123.55               E             4.0  \n",
       "48             17.85               W             2.8  \n",
       "49            155.41               W             2.1  \n",
       "50               NaN             NaN             NaN  \n",
       "51     12345678910»   12345678910»   12345678910»  \n",
       "52               NaN             NaN             NaN  "
      ]
     },
     "execution_count": 102,
     "metadata": {},
     "output_type": "execute_result"
    }
   ],
   "source": [
    "# your code here\n",
    "response7 = requests.get(url7)\n",
    "html7 = response7.content\n",
    "df_list = pd.read_html(html7)[3]\n",
    "df_list.drop(['CitizenResponse','Depth km','Mag [+]','Last update [-]', 'Unnamed: 12_level_0'], axis=1)"
   ]
  },
  {
   "cell_type": "markdown",
   "metadata": {},
   "source": [
    "#### Count the number of tweets by a given Twitter account.\n",
    "Ask the user for the handle (@handle) of a twitter account. You will need to include a ***try/except block*** for account names not found. \n",
    "<br>***Hint:*** the program should count the number of tweets for any provided account."
   ]
  },
  {
   "cell_type": "code",
   "execution_count": 103,
   "metadata": {},
   "outputs": [],
   "source": [
    "# This is the url you will scrape in this exercise \n",
    "# You will need to add the account credentials to this url\n",
    "url8 = 'https://twitter.com/'"
   ]
  },
  {
   "cell_type": "code",
   "execution_count": 104,
   "metadata": {},
   "outputs": [],
   "source": [
    "# your code here"
   ]
  },
  {
   "cell_type": "markdown",
   "metadata": {},
   "source": [
    "#### Number of followers of a given twitter account\n",
    "Ask the user for the handle (@handle) of a twitter account. You will need to include a ***try/except block*** for account names not found. \n",
    "<br>***Hint:*** the program should count the followers for any provided account."
   ]
  },
  {
   "cell_type": "code",
   "execution_count": 105,
   "metadata": {},
   "outputs": [],
   "source": [
    "# This is the url you will scrape in this exercise \n",
    "# You will need to add the account credentials to this url\n",
    "url9 = 'https://twitter.com/'"
   ]
  },
  {
   "cell_type": "code",
   "execution_count": 106,
   "metadata": {},
   "outputs": [],
   "source": [
    "# your code here"
   ]
  },
  {
   "cell_type": "markdown",
   "metadata": {},
   "source": [
    "#### List all language names and number of related articles in the order they appear in wikipedia.org."
   ]
  },
  {
   "cell_type": "code",
   "execution_count": 107,
   "metadata": {},
   "outputs": [],
   "source": [
    "# This is the url you will scrape in this exercise\n",
    "url10 = 'https://www.wikipedia.org/'"
   ]
  },
  {
   "cell_type": "code",
   "execution_count": 108,
   "metadata": {},
   "outputs": [],
   "source": [
    "# your code here\n",
    "response10 = requests.get(url10)\n",
    "html10 = response10.content\n",
    "soup10 = bs(html10, \"html.parser\") "
   ]
  },
  {
   "cell_type": "code",
   "execution_count": 109,
   "metadata": {
    "scrolled": true
   },
   "outputs": [
    {
     "data": {
      "text/plain": [
       "['English',\n",
       " '日本語',\n",
       " 'Русский',\n",
       " 'Deutsch',\n",
       " 'Español',\n",
       " 'Français',\n",
       " '中文',\n",
       " 'Italiano',\n",
       " 'Português',\n",
       " 'Polski']"
      ]
     },
     "execution_count": 109,
     "metadata": {},
     "output_type": "execute_result"
    }
   ],
   "source": [
    "language= [tag.strong.string for tag in soup10.find_all('a',{'class':'link-box'})]\n",
    "language"
   ]
  },
  {
   "cell_type": "code",
   "execution_count": 110,
   "metadata": {},
   "outputs": [
    {
     "data": {
      "text/plain": [
       "['6\\xa0383\\xa0000+',\n",
       " '1\\xa0292\\xa0000+',\n",
       " '1\\xa0756\\xa0000+',\n",
       " '2\\xa0617\\xa0000+',\n",
       " '1\\xa0717\\xa0000+',\n",
       " '2\\xa0362\\xa0000+',\n",
       " '1\\xa0231\\xa0000+',\n",
       " '1\\xa0718\\xa0000+',\n",
       " '1\\xa0074\\xa0000+',\n",
       " '1\\xa0490\\xa0000+']"
      ]
     },
     "execution_count": 110,
     "metadata": {},
     "output_type": "execute_result"
    }
   ],
   "source": [
    "num_art= [tag.bdi.string for tag in soup10.find_all('a',{'class':'link-box'})]\n",
    "num_art"
   ]
  },
  {
   "cell_type": "code",
   "execution_count": 111,
   "metadata": {},
   "outputs": [],
   "source": [
    "num=[]\n",
    "for i in num_art:\n",
    "    num.append(re.sub('\\xa0',\"\",i))"
   ]
  },
  {
   "cell_type": "code",
   "execution_count": 112,
   "metadata": {},
   "outputs": [
    {
     "data": {
      "text/plain": [
       "['6383000+',\n",
       " '1292000+',\n",
       " '1756000+',\n",
       " '2617000+',\n",
       " '1717000+',\n",
       " '2362000+',\n",
       " '1231000+',\n",
       " '1718000+',\n",
       " '1074000+',\n",
       " '1490000+']"
      ]
     },
     "execution_count": 112,
     "metadata": {},
     "output_type": "execute_result"
    }
   ],
   "source": [
    "num"
   ]
  },
  {
   "cell_type": "code",
   "execution_count": 113,
   "metadata": {
    "scrolled": true
   },
   "outputs": [
    {
     "data": {
      "text/plain": [
       "['articles',\n",
       " '記事',\n",
       " 'статей',\n",
       " 'Artikel',\n",
       " 'artículos',\n",
       " 'articles',\n",
       " '條目',\n",
       " 'voci',\n",
       " 'artigos',\n",
       " 'haseł']"
      ]
     },
     "execution_count": 113,
     "metadata": {},
     "output_type": "execute_result"
    }
   ],
   "source": [
    "art = [tag.span.string for tag in soup10.find_all('a',{'class':'link-box'})]\n",
    "art"
   ]
  },
  {
   "cell_type": "code",
   "execution_count": 114,
   "metadata": {},
   "outputs": [
    {
     "data": {
      "text/plain": [
       "[('English', '6383000+', 'articles'),\n",
       " ('日本語', '1292000+', '記事'),\n",
       " ('Русский', '1756000+', 'статей'),\n",
       " ('Deutsch', '2617000+', 'Artikel'),\n",
       " ('Español', '1717000+', 'artículos'),\n",
       " ('Français', '2362000+', 'articles'),\n",
       " ('中文', '1231000+', '條目'),\n",
       " ('Italiano', '1718000+', 'voci'),\n",
       " ('Português', '1074000+', 'artigos'),\n",
       " ('Polski', '1490000+', 'haseł')]"
      ]
     },
     "execution_count": 114,
     "metadata": {},
     "output_type": "execute_result"
    }
   ],
   "source": [
    "order = list(zip(language, num, art))\n",
    "order"
   ]
  },
  {
   "cell_type": "markdown",
   "metadata": {},
   "source": [
    "#### A list with the different kind of datasets available in data.gov.uk."
   ]
  },
  {
   "cell_type": "code",
   "execution_count": 115,
   "metadata": {},
   "outputs": [],
   "source": [
    "# This is the url you will scrape in this exercise\n",
    "url11 = 'https://data.gov.uk/'"
   ]
  },
  {
   "cell_type": "code",
   "execution_count": 116,
   "metadata": {},
   "outputs": [],
   "source": [
    "# your code here\n",
    "response11 = requests.get(url11)\n",
    "html11 = response11.content\n",
    "soup11 = bs(html11, \"html.parser\") "
   ]
  },
  {
   "cell_type": "code",
   "execution_count": 117,
   "metadata": {},
   "outputs": [
    {
     "data": {
      "text/plain": [
       "['Business and economy',\n",
       " 'Crime and justice',\n",
       " 'Defence',\n",
       " 'Education',\n",
       " 'Environment',\n",
       " 'Government',\n",
       " 'Government spending',\n",
       " 'Health',\n",
       " 'Mapping',\n",
       " 'Society',\n",
       " 'Towns and cities',\n",
       " 'Transport',\n",
       " 'Digital service performance',\n",
       " 'Government reference data']"
      ]
     },
     "execution_count": 117,
     "metadata": {},
     "output_type": "execute_result"
    }
   ],
   "source": [
    "stew11=soup11.find_all('h3',{'class':'govuk-heading-s dgu-topics__heading'})\n",
    "tag_dataset = [tag.a.string for tag in stew11]\n",
    "tag_dataset"
   ]
  },
  {
   "cell_type": "markdown",
   "metadata": {},
   "source": [
    "#### Display the top 10 languages by number of native speakers stored in a pandas dataframe."
   ]
  },
  {
   "cell_type": "code",
   "execution_count": 118,
   "metadata": {},
   "outputs": [],
   "source": [
    "# This is the url you will scrape in this exercise\n",
    "url12 = 'https://en.wikipedia.org/wiki/List_of_languages_by_number_of_native_speakers'"
   ]
  },
  {
   "cell_type": "code",
   "execution_count": 119,
   "metadata": {},
   "outputs": [
    {
     "data": {
      "text/html": [
       "<div>\n",
       "<style scoped>\n",
       "    .dataframe tbody tr th:only-of-type {\n",
       "        vertical-align: middle;\n",
       "    }\n",
       "\n",
       "    .dataframe tbody tr th {\n",
       "        vertical-align: top;\n",
       "    }\n",
       "\n",
       "    .dataframe thead th {\n",
       "        text-align: right;\n",
       "    }\n",
       "</style>\n",
       "<table border=\"1\" class=\"dataframe\">\n",
       "  <thead>\n",
       "    <tr style=\"text-align: right;\">\n",
       "      <th></th>\n",
       "      <th>Rank</th>\n",
       "      <th>Language</th>\n",
       "      <th>Speakers(millions)</th>\n",
       "      <th>Percentageof world pop.(March 2019)[10]</th>\n",
       "      <th>Language family</th>\n",
       "      <th>Branch</th>\n",
       "    </tr>\n",
       "  </thead>\n",
       "  <tbody>\n",
       "    <tr>\n",
       "      <th>0</th>\n",
       "      <td>1</td>\n",
       "      <td>Mandarin Chinese</td>\n",
       "      <td>918.0</td>\n",
       "      <td>11.922%</td>\n",
       "      <td>Sino-Tibetan</td>\n",
       "      <td>Sinitic</td>\n",
       "    </tr>\n",
       "    <tr>\n",
       "      <th>1</th>\n",
       "      <td>2</td>\n",
       "      <td>Spanish</td>\n",
       "      <td>480.0</td>\n",
       "      <td>5.994%</td>\n",
       "      <td>Indo-European</td>\n",
       "      <td>Romance</td>\n",
       "    </tr>\n",
       "    <tr>\n",
       "      <th>2</th>\n",
       "      <td>3</td>\n",
       "      <td>English</td>\n",
       "      <td>379.0</td>\n",
       "      <td>4.922%</td>\n",
       "      <td>Indo-European</td>\n",
       "      <td>Germanic</td>\n",
       "    </tr>\n",
       "    <tr>\n",
       "      <th>3</th>\n",
       "      <td>4</td>\n",
       "      <td>Hindi (sanskritised Hindustani)[11]</td>\n",
       "      <td>341.0</td>\n",
       "      <td>4.429%</td>\n",
       "      <td>Indo-European</td>\n",
       "      <td>Indo-Aryan</td>\n",
       "    </tr>\n",
       "    <tr>\n",
       "      <th>4</th>\n",
       "      <td>5</td>\n",
       "      <td>Bengali</td>\n",
       "      <td>300.0</td>\n",
       "      <td>4.000%</td>\n",
       "      <td>Indo-European</td>\n",
       "      <td>Indo-Aryan</td>\n",
       "    </tr>\n",
       "    <tr>\n",
       "      <th>5</th>\n",
       "      <td>6</td>\n",
       "      <td>Portuguese</td>\n",
       "      <td>221.0</td>\n",
       "      <td>2.870%</td>\n",
       "      <td>Indo-European</td>\n",
       "      <td>Romance</td>\n",
       "    </tr>\n",
       "    <tr>\n",
       "      <th>6</th>\n",
       "      <td>7</td>\n",
       "      <td>Russian</td>\n",
       "      <td>154.0</td>\n",
       "      <td>2.000%</td>\n",
       "      <td>Indo-European</td>\n",
       "      <td>Balto-Slavic</td>\n",
       "    </tr>\n",
       "    <tr>\n",
       "      <th>7</th>\n",
       "      <td>8</td>\n",
       "      <td>Japanese</td>\n",
       "      <td>128.0</td>\n",
       "      <td>1.662%</td>\n",
       "      <td>Japonic</td>\n",
       "      <td>Japanese</td>\n",
       "    </tr>\n",
       "    <tr>\n",
       "      <th>8</th>\n",
       "      <td>9</td>\n",
       "      <td>Western Punjabi[12]</td>\n",
       "      <td>92.7</td>\n",
       "      <td>1.204%</td>\n",
       "      <td>Indo-European</td>\n",
       "      <td>Indo-Aryan</td>\n",
       "    </tr>\n",
       "    <tr>\n",
       "      <th>9</th>\n",
       "      <td>10</td>\n",
       "      <td>Marathi</td>\n",
       "      <td>83.1</td>\n",
       "      <td>1.079%</td>\n",
       "      <td>Indo-European</td>\n",
       "      <td>Indo-Aryan</td>\n",
       "    </tr>\n",
       "  </tbody>\n",
       "</table>\n",
       "</div>"
      ],
      "text/plain": [
       "   Rank                             Language  Speakers(millions)  \\\n",
       "0     1                     Mandarin Chinese               918.0   \n",
       "1     2                              Spanish               480.0   \n",
       "2     3                              English               379.0   \n",
       "3     4  Hindi (sanskritised Hindustani)[11]               341.0   \n",
       "4     5                              Bengali               300.0   \n",
       "5     6                           Portuguese               221.0   \n",
       "6     7                              Russian               154.0   \n",
       "7     8                             Japanese               128.0   \n",
       "8     9                  Western Punjabi[12]                92.7   \n",
       "9    10                              Marathi                83.1   \n",
       "\n",
       "  Percentageof world pop.(March 2019)[10] Language family        Branch  \n",
       "0                                 11.922%    Sino-Tibetan       Sinitic  \n",
       "1                                  5.994%   Indo-European       Romance  \n",
       "2                                  4.922%   Indo-European      Germanic  \n",
       "3                                  4.429%   Indo-European    Indo-Aryan  \n",
       "4                                  4.000%   Indo-European    Indo-Aryan  \n",
       "5                                  2.870%   Indo-European       Romance  \n",
       "6                                  2.000%   Indo-European  Balto-Slavic  \n",
       "7                                  1.662%         Japonic      Japanese  \n",
       "8                                  1.204%   Indo-European    Indo-Aryan  \n",
       "9                                  1.079%   Indo-European    Indo-Aryan  "
      ]
     },
     "execution_count": 119,
     "metadata": {},
     "output_type": "execute_result"
    }
   ],
   "source": [
    "# your code here\n",
    "response12 = requests.get(url12)\n",
    "html12 = response12.content\n",
    "df_list = pd.read_html(html12)[1]\n",
    "df_list.head(10)"
   ]
  },
  {
   "cell_type": "markdown",
   "metadata": {},
   "source": [
    "## Bonus\n",
    "#### Scrape a certain number of tweets of a given Twitter account."
   ]
  },
  {
   "cell_type": "code",
   "execution_count": 120,
   "metadata": {},
   "outputs": [],
   "source": [
    "# This is the url you will scrape in this exercise \n",
    "# You will need to add the account credentials to this url\n",
    "url = 'https://twitter.com/'"
   ]
  },
  {
   "cell_type": "code",
   "execution_count": 121,
   "metadata": {},
   "outputs": [],
   "source": [
    "# your code here"
   ]
  },
  {
   "cell_type": "markdown",
   "metadata": {},
   "source": [
    "#### Display IMDB's top 250 data (movie name, initial release, director name and stars) as a pandas dataframe."
   ]
  },
  {
   "cell_type": "code",
   "execution_count": 122,
   "metadata": {},
   "outputs": [],
   "source": [
    "# This is the url you will scrape in this exercise \n",
    "url = 'https://www.imdb.com/chart/top'"
   ]
  },
  {
   "cell_type": "code",
   "execution_count": 123,
   "metadata": {},
   "outputs": [],
   "source": [
    "# your code here"
   ]
  },
  {
   "cell_type": "markdown",
   "metadata": {},
   "source": [
    "#### Display the movie name, year and a brief summary of the top 10 random movies (IMDB) as a pandas dataframe."
   ]
  },
  {
   "cell_type": "code",
   "execution_count": null,
   "metadata": {},
   "outputs": [],
   "source": [
    "#This is the url you will scrape in this exercise\n",
    "url = 'http://www.imdb.com/chart/top'"
   ]
  },
  {
   "cell_type": "code",
   "execution_count": null,
   "metadata": {},
   "outputs": [],
   "source": [
    "# your code here"
   ]
  },
  {
   "cell_type": "markdown",
   "metadata": {},
   "source": [
    "#### Find the live weather report (temperature, wind speed, description and weather) of a given city."
   ]
  },
  {
   "cell_type": "code",
   "execution_count": null,
   "metadata": {},
   "outputs": [],
   "source": [
    "#https://openweathermap.org/current\n",
    "city = input('Enter the city: ')\n",
    "url = 'http://api.openweathermap.org/data/2.5/weather?'+'q='+city+'&APPID=b35975e18dc93725acb092f7272cc6b8&units=metric'"
   ]
  },
  {
   "cell_type": "code",
   "execution_count": null,
   "metadata": {},
   "outputs": [],
   "source": [
    "# your code here"
   ]
  },
  {
   "cell_type": "markdown",
   "metadata": {},
   "source": [
    "#### Find the book name, price and stock availability as a pandas dataframe."
   ]
  },
  {
   "cell_type": "code",
   "execution_count": null,
   "metadata": {},
   "outputs": [],
   "source": [
    "# This is the url you will scrape in this exercise. \n",
    "# It is a fictional bookstore created to be scraped. \n",
    "url = 'http://books.toscrape.com/'"
   ]
  },
  {
   "cell_type": "code",
   "execution_count": null,
   "metadata": {},
   "outputs": [],
   "source": [
    "# your code here"
   ]
  }
 ],
 "metadata": {
  "kernelspec": {
   "display_name": "Python [conda env:ironhack]",
   "language": "python",
   "name": "conda-env-ironhack-py"
  },
  "language_info": {
   "codemirror_mode": {
    "name": "ipython",
    "version": 3
   },
   "file_extension": ".py",
   "mimetype": "text/x-python",
   "name": "python",
   "nbconvert_exporter": "python",
   "pygments_lexer": "ipython3",
   "version": "3.7.11"
  }
 },
 "nbformat": 4,
 "nbformat_minor": 2
}

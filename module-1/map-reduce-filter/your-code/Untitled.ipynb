{
 "cells": [
  {
   "cell_type": "code",
   "execution_count": 1,
   "id": "66a53fd3",
   "metadata": {},
   "outputs": [
    {
     "data": {
      "text/plain": [
       "list"
      ]
     },
     "execution_count": 1,
     "metadata": {},
     "output_type": "execute_result"
    }
   ],
   "source": [
    "location = '../data/58585-0.txt'\n",
    "with open(location, 'r', encoding=\"utf8\") as f:\n",
    "    prophet = f.read().split(' ')\n",
    "\n",
    "type(prophet)"
   ]
  },
  {
   "cell_type": "code",
   "execution_count": 2,
   "id": "abe80337",
   "metadata": {},
   "outputs": [],
   "source": [
    "# your code here\n",
    "new_prophet=[]\n",
    "for i in prophet[568:]:\n",
    "    new_prophet.append(i)"
   ]
  },
  {
   "cell_type": "code",
   "execution_count": 23,
   "id": "fc7a3c85",
   "metadata": {},
   "outputs": [
    {
     "name": "stdout",
     "output_type": "stream",
     "text": [
      "PROPHET\n",
      "\n",
      "|Almustafa,\n",
      "the{7}\n",
      "chosen\n",
      "and\n",
      "the\n",
      "beloved,\n",
      "who\n",
      "was\n",
      "a\n",
      "dawn\n",
      "unto\n"
     ]
    },
    {
     "data": {
      "text/plain": [
       "list"
      ]
     },
     "execution_count": 23,
     "metadata": {},
     "output_type": "execute_result"
    }
   ],
   "source": [
    "for i in new_prophet[0:10]:\n",
    "    print(i)"
   ]
  },
  {
   "cell_type": "code",
   "execution_count": 41,
   "id": "489de92d",
   "metadata": {},
   "outputs": [
    {
     "data": {
      "text/plain": [
       "list"
      ]
     },
     "execution_count": 41,
     "metadata": {},
     "output_type": "execute_result"
    }
   ],
   "source": [
    "def reference(x):\n",
    "    str = \" \"\n",
    "    return str.join(new_prophet)\n",
    "type(new_prophet)\n"
   ]
  },
  {
   "cell_type": "code",
   "execution_count": null,
   "id": "6f696fb8",
   "metadata": {},
   "outputs": [],
   "source": []
  }
 ],
 "metadata": {
  "kernelspec": {
   "display_name": "Python [conda env:ironhack]",
   "language": "python",
   "name": "conda-env-ironhack-py"
  },
  "language_info": {
   "codemirror_mode": {
    "name": "ipython",
    "version": 3
   },
   "file_extension": ".py",
   "mimetype": "text/x-python",
   "name": "python",
   "nbconvert_exporter": "python",
   "pygments_lexer": "ipython3",
   "version": "3.7.11"
  }
 },
 "nbformat": 4,
 "nbformat_minor": 5
}

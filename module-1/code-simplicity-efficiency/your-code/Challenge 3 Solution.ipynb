{
 "cells": [
  {
   "cell_type": "code",
   "execution_count": 8,
   "id": "5d64beee",
   "metadata": {},
   "outputs": [
    {
     "name": "stdout",
     "output_type": "stream",
     "text": [
      "What is the maximal length of the triangle side? Enter a number: 60\n",
      "The longest side possible is 58.0\n"
     ]
    }
   ],
   "source": [
    "import math\n",
    "\n",
    "def triangle(X):\n",
    "    solutions = []\n",
    "    for x in range(5,X):\n",
    "        for y in range(4,X):\n",
    "            h = math.sqrt(x**2 + y**2)\n",
    "            if h== int(h) and (h*h==x*x+y*y) and h<X:\n",
    "                solutions.append([h, x, y])\n",
    "             \n",
    "    m = 0\n",
    "    for solution in solutions:\n",
    "        if m < max(solution):\n",
    "            m = max(solution)\n",
    "    return m\n",
    "\n",
    "X = input(\"What is the maximal length of the triangle side? Enter a number: \")\n",
    "\n",
    "print(\"The longest side possible is \" + str(triangle(int(X))))           "
   ]
  },
  {
   "cell_type": "code",
   "execution_count": null,
   "id": "eca235da",
   "metadata": {},
   "outputs": [],
   "source": []
  }
 ],
 "metadata": {
  "kernelspec": {
   "display_name": "Python [conda env:ironhack]",
   "language": "python",
   "name": "conda-env-ironhack-py"
  },
  "language_info": {
   "codemirror_mode": {
    "name": "ipython",
    "version": 3
   },
   "file_extension": ".py",
   "mimetype": "text/x-python",
   "name": "python",
   "nbconvert_exporter": "python",
   "pygments_lexer": "ipython3",
   "version": "3.7.11"
  }
 },
 "nbformat": 4,
 "nbformat_minor": 5
}

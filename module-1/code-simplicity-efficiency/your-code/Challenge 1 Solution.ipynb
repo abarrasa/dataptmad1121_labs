{
 "cells": [
  {
   "cell_type": "markdown",
   "id": "d872430b",
   "metadata": {},
   "source": [
    "Challenge 1"
   ]
  },
  {
   "cell_type": "code",
   "execution_count": 2,
   "id": "5236f442",
   "metadata": {},
   "outputs": [
    {
     "name": "stdout",
     "output_type": "stream",
     "text": [
      "Enter a number between zero and five: one\n",
      "Choose between plus or minus: plus\n",
      "Enter another number between zero and five: two\n",
      "three\n"
     ]
    }
   ],
   "source": [
    "numbers= {\"zero\": 0, \"one\":1, \"two\":2, \"three\":3, \"four\": 4, \"five\": 5, \"six\": 6, \"seven\":7, \"eight\":8, \"nine\":9, \"ten\": 10}\n",
    "\n",
    "\n",
    "a = input(\"Enter a number between zero and five: \")\n",
    "b = input(\"Choose between plus or minus: \")\n",
    "c = input(\"Enter another number between zero and five: \")\n",
    "\n",
    "def calculator(a, b, c):\n",
    "    num_a = numbers[a]\n",
    "    num_c = numbers[c]\n",
    "    \n",
    "    if b == \"plus\":\n",
    "        plus = num_a+num_c\n",
    "        letters=(list(numbers.keys())[list(numbers.values()).index(plus)])\n",
    "        print (letters)\n",
    "    elif b==\"minus\":\n",
    "        minus = num_a-num_c\n",
    "        letters=(list(numbers.keys())[list(numbers.values()).index(minus)])\n",
    "        print (letters)\n",
    "    else:\n",
    "        print(\"These numbers are not valid\")\n",
    "calculator(a,b,c)\n"
   ]
  },
  {
   "cell_type": "code",
   "execution_count": null,
   "id": "edf4cc9b",
   "metadata": {},
   "outputs": [],
   "source": []
  }
 ],
 "metadata": {
  "kernelspec": {
   "display_name": "Python [conda env:ironhack]",
   "language": "python",
   "name": "conda-env-ironhack-py"
  },
  "language_info": {
   "codemirror_mode": {
    "name": "ipython",
    "version": 3
   },
   "file_extension": ".py",
   "mimetype": "text/x-python",
   "name": "python",
   "nbconvert_exporter": "python",
   "pygments_lexer": "ipython3",
   "version": "3.7.11"
  }
 },
 "nbformat": 4,
 "nbformat_minor": 5
}

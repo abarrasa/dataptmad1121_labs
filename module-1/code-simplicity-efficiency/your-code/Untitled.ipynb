{
 "cells": [
  {
   "cell_type": "code",
   "execution_count": 23,
   "id": "3f374257",
   "metadata": {},
   "outputs": [
    {
     "ename": "SyntaxError",
     "evalue": "invalid syntax (1927235308.py, line 2)",
     "output_type": "error",
     "traceback": [
      "\u001b[0;36m  File \u001b[0;32m\"/var/folders/v0/ywqslh_51dx3jnpnjr05wgsr0000gn/T/ipykernel_36183/1927235308.py\"\u001b[0;36m, line \u001b[0;32m2\u001b[0m\n\u001b[0;31m    b = input (str(\"elige entre sumar o restar\"))\u001b[0m\n\u001b[0m    ^\u001b[0m\n\u001b[0;31mSyntaxError\u001b[0m\u001b[0;31m:\u001b[0m invalid syntax\n"
     ]
    }
   ],
   "source": [
    "a = input(int(\"Enter the first number: \")\n",
    "b = input (str(\"elige entre sumar o restar\"))\n",
    "c = input (int(\"elige el segundo numero: \")\n",
    "\n",
    "def sumatorio (a, c):\n",
    "    return a+c\n",
    "\n",
    "for i in range(6):\n",
    "    if b == \"sumar\":\n",
    "        print (a + c)\n"
   ]
  },
  {
   "cell_type": "code",
   "execution_count": 25,
   "id": "b5cf6692",
   "metadata": {},
   "outputs": [
    {
     "name": "stdout",
     "output_type": "stream",
     "text": [
      "Seleciona una opcion del menu\n",
      "1. suma\n",
      "2. resta\n",
      "1\n",
      "Suma\n",
      "Selecciona el primer numero: 3\n",
      "Selecciona el segundo numero: 4\n",
      "La suma es: 7\n"
     ]
    }
   ],
   "source": [
    "opcion = int(input(\"\"\"Seleciona una opcion del menu\n",
    "1. suma\n",
    "2. resta\n",
    "\"\"\"))\n",
    "if opcion ==1:\n",
    "    print('Suma')\n",
    "    num1=int(input('Selecciona el primer numero: '))\n",
    "    num2=int(input('Selecciona el segundo numero: '))\n",
    "    print(f\"La suma es: {num1 + num2}\")\n",
    "elif opcion ==2:\n",
    "    print('Resta')\n",
    "    num1=int(input('Selecciona el primer numero: '))\n",
    "    num2=int(input('Selecciona el segundo numero: '))\n",
    "    print(f\"La resta es: {num1 - num2}\")"
   ]
  },
  {
   "cell_type": "code",
   "execution_count": null,
   "id": "200d43a0",
   "metadata": {},
   "outputs": [],
   "source": []
  }
 ],
 "metadata": {
  "kernelspec": {
   "display_name": "Python [conda env:ironhack]",
   "language": "python",
   "name": "conda-env-ironhack-py"
  },
  "language_info": {
   "codemirror_mode": {
    "name": "ipython",
    "version": 3
   },
   "file_extension": ".py",
   "mimetype": "text/x-python",
   "name": "python",
   "nbconvert_exporter": "python",
   "pygments_lexer": "ipython3",
   "version": "3.7.11"
  }
 },
 "nbformat": 4,
 "nbformat_minor": 5
}

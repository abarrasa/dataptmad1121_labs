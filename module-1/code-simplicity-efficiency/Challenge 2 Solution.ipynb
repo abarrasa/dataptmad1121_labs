{
 "cells": [
  {
   "cell_type": "code",
   "execution_count": 5,
   "id": "ef45d90e",
   "metadata": {},
   "outputs": [
    {
     "name": "stdout",
     "output_type": "stream",
     "text": [
      "Enter minimum string length: 2\n",
      "Enter maximum string length: 4\n",
      "How many random strings to generate? 2\n",
      "q8p7\n",
      "5p2l\n"
     ]
    }
   ],
   "source": [
    "import string\n",
    "import random\n",
    "\n",
    "a = input('Enter minimum string length: ')\n",
    "b = input('Enter maximum string length: ')\n",
    "n = input('How many random strings to generate? ')\n",
    "\n",
    "def random_string(a, b, n):\n",
    "    for x in range(int(n)):\n",
    "        length = [random.randint(int(a), int(b))]\n",
    "        print (''.join(random.choices(string.ascii_lowercase + string.digits, k =length[0])))\n",
    "random_string(a, b, n)"
   ]
  }
 ],
 "metadata": {
  "kernelspec": {
   "display_name": "Python [conda env:ironhack]",
   "language": "python",
   "name": "conda-env-ironhack-py"
  },
  "language_info": {
   "codemirror_mode": {
    "name": "ipython",
    "version": 3
   },
   "file_extension": ".py",
   "mimetype": "text/x-python",
   "name": "python",
   "nbconvert_exporter": "python",
   "pygments_lexer": "ipython3",
   "version": "3.7.11"
  }
 },
 "nbformat": 4,
 "nbformat_minor": 5
}
